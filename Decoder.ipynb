{
 "cells": [
  {
   "cell_type": "code",
   "execution_count": 1,
   "metadata": {
    "ExecuteTime": {
     "end_time": "2018-01-19T19:36:35.897018Z",
     "start_time": "2018-01-19T19:36:28.295216Z"
    },
    "collapsed": true
   },
   "outputs": [],
   "source": [
    "import torch\n",
    "from torch.autograd import Variable\n",
    "import torch.nn as nn\n",
    "import numpy as np\n",
    "import torch.optim as optim\n",
    "from matplotlib import pyplot as plt"
   ]
  },
  {
   "cell_type": "code",
   "execution_count": 2,
   "metadata": {
    "ExecuteTime": {
     "end_time": "2018-01-19T19:36:36.327054Z",
     "start_time": "2018-01-19T19:36:35.898729Z"
    },
    "run_control": {
     "marked": false
    }
   },
   "outputs": [
    {
     "name": "stdout",
     "output_type": "stream",
     "text": [
      "total images <= max_seq_len is 200\n",
      "total images <= max_seq_len is 100\n"
     ]
    }
   ],
   "source": [
    "import numpy as np\n",
    "import utils\n",
    "import torch \n",
    "from torch.autograd import Variable\n",
    "from Modules import VAE\n",
    "import torch.nn as nn\n",
    "import torch.nn.functional as F\n",
    "\n",
    "filename = \"/home/wafa/Desktop/study/sketchRNN/aaron_sheep.npz\"\n",
    "load_data = np.load(filename, encoding = 'latin1')\n",
    "train_set = load_data['train'][:200]\n",
    "test_set = load_data['test'][:100]\n",
    "\n",
    "nb_steps = 100\n",
    "feature_len=5\n",
    "batch_size = 100\n",
    "max_seq_len=250\n",
    "\n",
    "train_set = utils.DataLoader(train_set, batch_size)\n",
    "test_set = utils.DataLoader(test_set, batch_size)"
   ]
  },
  {
   "cell_type": "code",
   "execution_count": 3,
   "metadata": {
    "ExecuteTime": {
     "end_time": "2018-01-19T19:36:36.364259Z",
     "start_time": "2018-01-19T19:36:36.328773Z"
    },
    "collapsed": true
   },
   "outputs": [],
   "source": [
    "class Decoder(nn.Module):\n",
    "    \n",
    "    def __init__(self, strokeSize, batchSize,  Nhe, Nhd, Nz, Ny):\n",
    "        super(Decoder, self).__init__()\n",
    "        self.Nhe = Nhe\n",
    "        self.Nhd = Nhd\n",
    "        self.cell = nn.LSTM(strokeSize, Nhd, 1, batch_first=True)\n",
    "        self.y = nn.Linear(Nhd, Ny)\n",
    "    \n",
    "    def forward(self, x):\n",
    "        output, (hn, cn) = self.cell(x)\n",
    "        #print(\"avant reshape\", output.size())\n",
    "        #print(output.contiguous().view(-1, self.Nh).size())\n",
    "        output = output.contiguous().view(-1, self.Nhd)\n",
    "        #print(\"after\", output.size())\n",
    "        y = self.y(output)\n",
    "        return y  "
   ]
  },
  {
   "cell_type": "code",
   "execution_count": 4,
   "metadata": {
    "ExecuteTime": {
     "end_time": "2018-01-19T19:36:36.517483Z",
     "start_time": "2018-01-19T19:36:36.366869Z"
    },
    "collapsed": true
   },
   "outputs": [],
   "source": [
    "class SketchRNN(nn.Module):\n",
    "    \n",
    "    def __init__(self, strokeSize, batchSize, Nhe, Nhd, Nz, Ny, max_seq_len):\n",
    "        super(SketchRNN, self).__init__()\n",
    "        self.batchSize = batchSize\n",
    "        self.Nhe = Nhe\n",
    "        self.Nhd = Nhd\n",
    "        self.max_seq_len = max_seq_len\n",
    "        self.Nz = Nz\n",
    "        self.decoder = Decoder(strokeSize, batchSize, Nhe, Nhd, Nz, Ny)\n",
    "        \n",
    "    def forward(self, x):\n",
    "        #here we take S0\n",
    "        y = self.decoder(x[:, :250, :])\n",
    "        return y\n"
   ]
  },
  {
   "cell_type": "code",
   "execution_count": 5,
   "metadata": {
    "ExecuteTime": {
     "end_time": "2018-01-19T19:36:36.660289Z",
     "start_time": "2018-01-19T19:36:36.524642Z"
    },
    "collapsed": true
   },
   "outputs": [],
   "source": [
    "class Loss():  \n",
    "    \n",
    "    def bi_normal(self, x1, x2, mu1, mu2, s1, s2, rho):\n",
    "\n",
    "        x1 = x1.contiguous().view(-1, 1).expand(x1.size(0), M)\n",
    "        x2 = x2.contiguous().view(-1, 1).expand(x2.size(0), M)\n",
    "        norm1 = x1 - mu1\n",
    "        norm2 = x2 - mu2\n",
    "        z = torch.div(norm1, s1).pow(2) + torch.div(norm2, s2).pow(2) - 2 * torch.div(torch.mul(rho, torch.mul(norm1, norm2)), torch.mul(s1,s2))\n",
    "        coef = torch.exp(-z/(2*(1-rho.pow(2))))\n",
    "        denom = 2 * F.math.pi * s1 * s2 * torch.sqrt(1-rho.pow(2))\n",
    "        #print(denom)\n",
    "        result = torch.div(coef, denom)\n",
    "        return result\n",
    "\n",
    "    def Lr(self, z_pi, z_mu1, z_mu2, z_sigma1, z_sigma2, z_corr, z_pen_logits, x1, x2, pen, seq_len):\n",
    "\n",
    "        indices = []\n",
    "        for i in range(len(seq_len)): indices += [a+250*i for a in range(seq_len[i])]\n",
    "        #indices = torch.LongTensor(indices)\n",
    "        ls = self.bi_normal(x1[indices,], x2[indices,], z_mu1[indices,], z_mu2[indices,], z_sigma1[indices,], z_sigma2[indices,], z_corr[indices,])\n",
    "        ls = torch.mul(ls, z_pi[indices,])\n",
    "        ls = torch.sum(ls, 1, keepdim=True)\n",
    "        \n",
    "        ls = torch.log(ls + 1e-6)\n",
    "        #print(torch.min(ls))\n",
    "        #print(torch.max(ls))\n",
    "        ls = - torch.sum(ls) / (len(x1))\n",
    "        #print(ls)\n",
    "    \n",
    "        lp = torch.log(z_pen_logits)\n",
    "        lp = torch.mul(lp, pen)\n",
    "        lp = torch.sum(lp, 1, keepdim=True)\n",
    "        lp = - torch.mean(lp)\n",
    "        #print(lp)\n",
    "\n",
    "        return ls+lp\n",
    "\n",
    "    def Lkl(self, mu, sigma):\n",
    "        \n",
    "        Lkl = -0.5 * torch.mean(1 + sigma - mu.pow(2) - sigma.exp())     \n",
    "        return Lkl"
   ]
  },
  {
   "cell_type": "code",
   "execution_count": 7,
   "metadata": {
    "ExecuteTime": {
     "end_time": "2018-01-19T19:43:09.901302Z",
     "start_time": "2018-01-19T19:39:28.677586Z"
    }
   },
   "outputs": [
    {
     "name": "stdout",
     "output_type": "stream",
     "text": [
      "lr 7.646395683288574\n",
      "lr 6.88717794418335\n",
      "lr 5.9446611404418945\n",
      "lr 5.498036861419678\n",
      "lr 5.8882036209106445\n",
      "lr 5.034765720367432\n",
      "lr 4.78924560546875\n",
      "lr 4.7081122398376465\n",
      "lr 4.47343635559082\n",
      "lr 4.713654041290283\n",
      "lr 4.64261531829834\n",
      "lr 4.545867919921875\n",
      "lr 4.298844814300537\n",
      "lr 4.388129711151123\n",
      "lr 4.275082111358643\n",
      "lr 4.173673629760742\n",
      "lr 4.4702253341674805\n",
      "lr 4.049345970153809\n",
      "lr 4.082343101501465\n",
      "lr 4.1646409034729\n",
      "lr 4.171286582946777\n",
      "lr 4.247527599334717\n",
      "lr 3.9724276065826416\n",
      "lr 3.8731656074523926\n",
      "lr 4.181807041168213\n",
      "lr 4.2179460525512695\n",
      "lr 4.093590259552002\n",
      "lr 4.012468338012695\n",
      "lr 4.041754245758057\n",
      "lr 4.155841827392578\n",
      "lr 4.030490875244141\n",
      "lr 3.9850621223449707\n",
      "lr 3.9964540004730225\n",
      "lr 3.736525297164917\n",
      "lr 3.9234163761138916\n",
      "lr 3.7879228591918945\n",
      "lr 4.066797256469727\n",
      "lr 3.8448543548583984\n",
      "lr 3.831641912460327\n",
      "lr 3.984593152999878\n",
      "lr 3.9064996242523193\n",
      "lr 3.93424654006958\n",
      "lr 3.8134145736694336\n",
      "lr 4.021430015563965\n",
      "lr 3.8717477321624756\n",
      "lr 3.840639591217041\n",
      "lr 3.7797904014587402\n",
      "lr 3.9401755332946777\n",
      "lr 3.744915723800659\n",
      "lr 3.8316617012023926\n",
      "lr 3.9457790851593018\n",
      "lr 3.869370698928833\n",
      "lr 3.6660537719726562\n",
      "lr 3.934668779373169\n",
      "lr 3.8272814750671387\n",
      "lr 3.865074396133423\n",
      "lr 3.86610746383667\n",
      "lr 3.828435182571411\n",
      "lr 3.7681288719177246\n",
      "lr 3.6794562339782715\n",
      "lr 3.7653398513793945\n",
      "lr 4.0106658935546875\n",
      "lr 3.8246772289276123\n",
      "lr 3.859382152557373\n",
      "lr 3.818915367126465\n",
      "lr 3.844010353088379\n",
      "lr 3.697114944458008\n",
      "lr 3.955443859100342\n",
      "lr 3.701646327972412\n",
      "lr 3.8498759269714355\n",
      "lr 3.6826012134552\n",
      "lr 3.891289234161377\n",
      "lr 3.8341267108917236\n",
      "lr 3.8175063133239746\n",
      "lr 3.909841775894165\n",
      "lr 4.045788764953613\n",
      "lr 3.9303789138793945\n",
      "lr 3.7966935634613037\n",
      "lr 3.833228826522827\n",
      "lr 3.9396982192993164\n",
      "lr 3.770944118499756\n",
      "lr 3.8941285610198975\n",
      "lr 3.945124387741089\n",
      "lr 3.726710796356201\n",
      "lr 3.6514461040496826\n",
      "lr 3.795761823654175\n",
      "lr 3.936509847640991\n",
      "lr 3.831118583679199\n",
      "lr 3.711860179901123\n",
      "lr 3.798628330230713\n",
      "lr 3.9089457988739014\n",
      "lr 3.9301440715789795\n",
      "lr 3.8768808841705322\n",
      "lr 3.6522176265716553\n",
      "lr 3.7895331382751465\n",
      "lr 3.5446338653564453\n",
      "lr 3.765826940536499\n",
      "lr 3.5539097785949707\n",
      "lr 3.745384693145752\n",
      "lr 3.6529595851898193\n"
     ]
    }
   ],
   "source": [
    "M = 20\n",
    "sketchRnn = SketchRNN(5, 100, 256, 256, 128, 6*M+3, 250)\n",
    "lr=1e-2\n",
    "optimizer = optim.Adam(sketchRnn.parameters(),lr) \n",
    "los = []\n",
    "lok = []\n",
    "aal = []\n",
    "loss = Loss()\n",
    "for _ in range(100):\n",
    "    optimizer.zero_grad()\n",
    "    _, x, s = train_set.random_batch()\n",
    "    x = Variable(torch.from_numpy(x).type(torch.FloatTensor))\n",
    "    y = sketchRnn(x)\n",
    "    z_pen_logits = y[:, -3:]\n",
    "    z_pi, z_mu1, z_mu2, z_sigma1, z_sigma2, z_corr = torch.chunk(y[:, :-3], 6, dim=1)\n",
    "    z_pi = F.softmax(z_pi)\n",
    "    z_pen_logits = F.softmax(z_pen_logits)\n",
    "    z_sigma1 = torch.exp(z_sigma1)\n",
    "    z_sigma2 = torch.exp(z_sigma2)\n",
    "    z_corr = F.tanh(z_corr)\n",
    "    targets = x[:, 1:250+1, :].contiguous().view(-1, 5)\n",
    "    x1 = targets[:,0]\n",
    "    x2 = targets[:,1]\n",
    "    pen = targets[:,2:]\n",
    "    #lr = loss(z_pi, z_mu1, z_mu2, z_sigma1, z_sigma2, z_corr, z_pen_logits, x1, x2, pen, s)\n",
    "    lr = loss.Lr(z_pi, z_mu1, z_mu2, z_sigma1, z_sigma2, z_corr, z_pen_logits, x1, x2, pen, s)\n",
    "    print(\"lr\" ,lr.data[0])\n",
    "        \n",
    "    #print(lr.data[0])\n",
    "    los.append(lr.data[0])\n",
    "    lr.backward()\n",
    "    aal.append(lr )\n",
    "    optimizer.step()\n",
    "    #print()\n",
    "    "
   ]
  },
  {
   "cell_type": "code",
   "execution_count": 8,
   "metadata": {
    "ExecuteTime": {
     "end_time": "2018-01-19T19:45:29.788164Z",
     "start_time": "2018-01-19T19:45:29.056606Z"
    }
   },
   "outputs": [
    {
     "data": {
      "image/png": "[encoded data removed]",
      "text/plain": [
       "<matplotlib.figure.Figure at 0x7f4a066a1080>"
      ]
     },
     "metadata": {},
     "output_type": "display_data"
    }
   ],
   "source": [
    "fig = plt.figure(figsize=(7,6))    \n",
    "fig.suptitle(\"Loss LR\",fontsize=15)\n",
    "plt.plot(range(len(los)),los, 'b-')\n",
    "plt.xlabel(\"Batches\", fontsize=12)\n",
    "plt.show()"
   ]
  }
 ],
 "metadata": {
  "kernelspec": {
   "display_name": "Python 3",
   "language": "python",
   "name": "python3"
  },
  "language_info": {
   "codemirror_mode": {
    "name": "ipython",
    "version": 3
   },
   "file_extension": ".py",
   "mimetype": "text/x-python",
   "name": "python",
   "nbconvert_exporter": "python",
   "pygments_lexer": "ipython3",
   "version": "3.6.2"
  }
 },
 "nbformat": 4,
 "nbformat_minor": 2
}
